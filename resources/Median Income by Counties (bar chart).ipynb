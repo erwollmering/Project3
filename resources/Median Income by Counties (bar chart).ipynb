{
 "cells": [
  {
   "cell_type": "code",
   "execution_count": 2,
   "id": "df2b7a0b-9227-4e51-ac1a-4244255ab4bf",
   "metadata": {},
   "outputs": [],
   "source": [
    "import pandas as pd\n",
    "import matplotlib.pyplot as plt\n",
    "import ipywidgets as widgets\n",
    "from ipywidgets import interact"
   ]
  },
  {
   "cell_type": "code",
   "execution_count": 3,
   "id": "f8af6ff9-1eb8-438d-88d2-32239379c74b",
   "metadata": {},
   "outputs": [],
   "source": [
    "# loading CSV\n",
    "income_df = pd.read_csv(\"household_income_in_minnesota.csv\")"
   ]
  },
  {
   "cell_type": "code",
   "execution_count": 4,
   "id": "e3acd678-1a20-406a-b3ad-89130b62fc5d",
   "metadata": {},
   "outputs": [],
   "source": [
    "# clean the data\n",
    "income_cleaned = income_df[~income_df[\"County\"].isin([\"United States\", \"Minnesota\"])].copy()\n",
    "income_cleaned[\"Value (Dollars)\"] = (income_cleaned[\"Value (Dollars)\"].str.replace(\",\", \"\").astype(int))\n",
    "\n",
    "income_cleaned = income_cleaned.sort_values(by=\"Value (Dollars)\", ascending=False)"
   ]
  },
  {
   "cell_type": "code",
   "execution_count": 9,
   "id": "7b53fdaf-7fd4-4135-a33b-369b493941d5",
   "metadata": {},
   "outputs": [],
   "source": [
    "# --- DROPDOWN: Select Specific Counties ---\n",
    "#counties = income_cleaned[\"County\"].tolist()\n",
    "\n",
    "#@interact(county_selection=SelectMultiple(options=counties, description=\"Counties:\"))\n",
    "#def plot_selected_counties(county_selection):\n",
    "#    selected = income_cleaned[income_cleaned[\"County\"].isin(county_selection)]\n",
    "#    plt.figure(figsize=(10, 6))\n",
    "#    plt.barh(selected[\"County\"], selected[\"Value (Dollars)\"], color='lightgreen')\n",
    "#    plt.xlabel(\"Median Household Income ($)\")\n",
    "#    plt.title(\"Selected Counties by Median Income\")\n",
    " #   plt.gca().invert_yaxis()\n",
    "  #  plt.tight_layout()\n",
    "   # plt.show()\n",
    "\n",
    "# bar chart \n",
    "def plot_income(threshold):\n",
    "    filtered = income_cleaned[income_cleaned[\"Value (Dollars)\"] >= threshold]\n",
    "    plt.figure(figsize=(10, 6))\n",
    "    plt.barh(filtered[\"County\"], filtered[\"Value (Dollars)\"], color='skyblue')\n",
    "    plt.xlabel(\"Median Household Income ($)\")\n",
    "    plt.title(f\"Counties in MN with Income ≥ ${threshold:,}\")\n",
    "    plt.gca().invert_yaxis()\n",
    "    plt.tight_layout()\n",
    "    plt.show()\n"
   ]
  },
  {
   "cell_type": "code",
   "execution_count": 10,
   "id": "f4126e3b-050a-403a-9764-2a45ed69a3b2",
   "metadata": {},
   "outputs": [
    {
     "data": {
      "application/vnd.jupyter.widget-view+json": {
       "model_id": "1d7b241118904485afb23d244a6326ba",
       "version_major": 2,
       "version_minor": 0
      },
      "text/plain": [
       "interactive(children=(IntSlider(value=75000, continuous_update=False, description='Income ≥ $', max=130000, mi…"
      ]
     },
     "metadata": {},
     "output_type": "display_data"
    },
    {
     "data": {
      "text/plain": [
       "<function __main__.plot_income(threshold)>"
      ]
     },
     "execution_count": 10,
     "metadata": {},
     "output_type": "execute_result"
    }
   ],
   "source": [
    "# add slider to filter by income \n",
    "slider = widgets.IntSlider(\n",
    "    value=75000,\n",
    "    min=40000,\n",
    "    max=125000,\n",
    "    step=1000,\n",
    "    description='Income ≥ $',\n",
    "    continuous_update=False,\n",
    ")\n",
    "\n",
    "interact(plot_income, threshold=slider)"
   ]
  },
  {
   "cell_type": "code",
   "execution_count": null,
   "id": "b45c6427-095c-4ac9-b522-c4e5e5e0ee17",
   "metadata": {},
   "outputs": [],
   "source": []
  }
 ],
 "metadata": {
  "kernelspec": {
   "display_name": "Python 3 (ipykernel)",
   "language": "python",
   "name": "python3"
  },
  "language_info": {
   "codemirror_mode": {
    "name": "ipython",
    "version": 3
   },
   "file_extension": ".py",
   "mimetype": "text/x-python",
   "name": "python",
   "nbconvert_exporter": "python",
   "pygments_lexer": "ipython3",
   "version": "3.10.16"
  }
 },
 "nbformat": 4,
 "nbformat_minor": 5
}
