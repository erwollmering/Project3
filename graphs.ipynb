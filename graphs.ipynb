{
 "cells": [
  {
   "cell_type": "code",
   "execution_count": 28,
   "id": "8c4b97b9",
   "metadata": {},
   "outputs": [],
   "source": [
    "#depedencies\n",
    "import pandas as pd\n",
    "import matplotlib.pyplot as plt\n",
    "from scipy import stats\n",
    "import numpy as np"
   ]
  },
  {
   "cell_type": "code",
   "execution_count": 31,
   "id": "066bec13",
   "metadata": {},
   "outputs": [],
   "source": [
    "#importing csvs\n",
    "path_for_combined = ('resources/income_unemp_full.csv')\n",
    "path_for_county = ('resources/income_unemp_county.csv')\n",
    "path_for_fedstate = ('resources/us_mn_only.csv')\n",
    "\n",
    "full_df = pd.read_csv(path_for_combined)\n",
    "county_df = pd.read_csv(path_for_county)\n",
    "fedstate_df = pd.read_csv(path_for_fedstate)\n",
    "\n",
    "county_df.replace(',', '', inplace=True, regex=True)\n",
    "county_df['Income'] = pd.to_numeric(county_df['Income']).astype(int)\n"
   ]
  },
  {
   "cell_type": "code",
   "execution_count": 32,
   "id": "346aa74a",
   "metadata": {},
   "outputs": [
    {
     "data": {
      "text/html": [
       "<div>\n",
       "<style scoped>\n",
       "    .dataframe tbody tr th:only-of-type {\n",
       "        vertical-align: middle;\n",
       "    }\n",
       "\n",
       "    .dataframe tbody tr th {\n",
       "        vertical-align: top;\n",
       "    }\n",
       "\n",
       "    .dataframe thead th {\n",
       "        text-align: right;\n",
       "    }\n",
       "</style>\n",
       "<table border=\"1\" class=\"dataframe\">\n",
       "  <thead>\n",
       "    <tr style=\"text-align: right;\">\n",
       "      <th></th>\n",
       "      <th>County</th>\n",
       "      <th>People (Unemployed)</th>\n",
       "      <th>Unemployed(%)</th>\n",
       "      <th>Rank(Unemployed)</th>\n",
       "      <th>Income</th>\n",
       "      <th>Rank(Income)</th>\n",
       "    </tr>\n",
       "  </thead>\n",
       "  <tbody>\n",
       "    <tr>\n",
       "      <th>0</th>\n",
       "      <td>Mahnomen County</td>\n",
       "      <td>227</td>\n",
       "      <td>10.2</td>\n",
       "      <td>3054</td>\n",
       "      <td>53925</td>\n",
       "      <td>2425</td>\n",
       "    </tr>\n",
       "    <tr>\n",
       "      <th>1</th>\n",
       "      <td>Wadena County</td>\n",
       "      <td>406</td>\n",
       "      <td>5.8</td>\n",
       "      <td>2339</td>\n",
       "      <td>56882</td>\n",
       "      <td>2198</td>\n",
       "    </tr>\n",
       "    <tr>\n",
       "      <th>2</th>\n",
       "      <td>Aitkin County</td>\n",
       "      <td>385</td>\n",
       "      <td>5.8</td>\n",
       "      <td>2339</td>\n",
       "      <td>59498</td>\n",
       "      <td>1965</td>\n",
       "    </tr>\n",
       "    <tr>\n",
       "      <th>3</th>\n",
       "      <td>Swift County</td>\n",
       "      <td>188</td>\n",
       "      <td>4.0</td>\n",
       "      <td>1219</td>\n",
       "      <td>62601</td>\n",
       "      <td>1665</td>\n",
       "    </tr>\n",
       "    <tr>\n",
       "      <th>4</th>\n",
       "      <td>Martin County</td>\n",
       "      <td>449</td>\n",
       "      <td>4.4</td>\n",
       "      <td>1487</td>\n",
       "      <td>62969</td>\n",
       "      <td>1628</td>\n",
       "    </tr>\n",
       "  </tbody>\n",
       "</table>\n",
       "</div>"
      ],
      "text/plain": [
       "            County  People (Unemployed)  Unemployed(%) Rank(Unemployed)  \\\n",
       "0  Mahnomen County                  227           10.2             3054   \n",
       "1    Wadena County                  406            5.8             2339   \n",
       "2    Aitkin County                  385            5.8             2339   \n",
       "3     Swift County                  188            4.0             1219   \n",
       "4    Martin County                  449            4.4             1487   \n",
       "\n",
       "   Income Rank(Income)  \n",
       "0   53925         2425  \n",
       "1   56882         2198  \n",
       "2   59498         1965  \n",
       "3   62601         1665  \n",
       "4   62969         1628  "
      ]
     },
     "execution_count": 32,
     "metadata": {},
     "output_type": "execute_result"
    }
   ],
   "source": [
    "county_df.head()\n"
   ]
  },
  {
   "cell_type": "code",
   "execution_count": null,
   "id": "90856ec5",
   "metadata": {},
   "outputs": [
    {
     "name": "stdout",
     "output_type": "stream",
     "text": [
      "slope: 1.2799377143549338 \n",
      "intercept: 73957.78366628691 \n",
      "r_value: 0.37719762175532195 \n",
      "p_value: 0.0003165439133069299 \n",
      "std_err: 0.3408660049405001\n"
     ]
    }
   ],
   "source": [
    "#linregress for unemployment vs income totals\n",
    "slope, intercept, r_value, p_value, std_err = stats.linregress(county_df['People (Unemployed)'], county_df['Income'])\n",
    "\n",
    "unemp_income_stats = [slope, intercept, r_value, p_value, std_err]\n",
    "print(f'slope: {slope} \\nintercept: {intercept} \\nr_value: {r_value} \\np_value: {p_value} \\nstd_err: {std_err}')"
   ]
  },
  {
   "cell_type": "code",
   "execution_count": null,
   "id": "5e95ecc4",
   "metadata": {},
   "outputs": [
    {
     "name": "stdout",
     "output_type": "stream",
     "text": [
      "Q1: 182.5 \n",
      "Median: 388.0 \n",
      "Q3: 912.5 \n",
      "IQR: 730.0\n",
      "Lower Fence: -912.5 \n",
      "Upper Fence: 2007.5\n",
      "\n",
      "Q1: 69100.5 \n",
      "Median: 71573.0 \n",
      "Q3: 77582.0 \n",
      "IQR: 8481.5\n",
      "Lower Fence: 56378.25 \n",
      "Upper Fence: 90304.25\n",
      "\n"
     ]
    }
   ],
   "source": [
    "#finding quartiles, iqr and limits for outliers\n",
    "def quarties(var):\n",
    "    q1 = np.quantile(var, .25)\n",
    "    med = np.quantile(var, .5)\n",
    "    q3 = np.quantile(var, .75)\n",
    "    iqr = q3 - q1\n",
    "    print(f'Q1: {q1} \\nMedian: {med} \\nQ3: {q3} \\nIQR: {iqr}\\nLower Fence: {q1 - (iqr * 1.5)} \\nUpper Fence: {(iqr * 1.5) + q3}\\n')\n",
    "\n",
    "\n",
    "unemp_totals = county_df['People (Unemployed)']\n",
    "income_totals = county_df['Income']\n",
    "\n",
    "unemp_quarties = quarties(unemp_totals)\n",
    "income_quarties = quarties(income_totals)"
   ]
  },
  {
   "cell_type": "code",
   "execution_count": 67,
   "id": "931f2dbb",
   "metadata": {},
   "outputs": [
    {
     "name": "stdout",
     "output_type": "stream",
     "text": [
      "Upper:                County  People (Unemployed)  Unemployed(%) Rank(Unemployed)  \\\n",
      "76       Dodge County                  355            3.1              661   \n",
      "77     Olmsted County                 3232            3.6              951   \n",
      "78    Hennepin County                31494            4.3             1433   \n",
      "79     Chisago County                 1211            3.9             1152   \n",
      "80       Anoka County                 7966            3.9             1152   \n",
      "81   Sherburne County                 1807            3.3              755   \n",
      "82      Dakota County                 8985            3.6              951   \n",
      "83      Wright County                 1717            2.1              271   \n",
      "84  Washington County                 4850            3.3              755   \n",
      "85       Scott County                 2633            3.0              602   \n",
      "86      Carver County                 1910            3.1              661   \n",
      "\n",
      "    Income Rank(Income)  \n",
      "76   92943          224  \n",
      "77   93494          218  \n",
      "78   96339          177  \n",
      "79   98260          163  \n",
      "80   98764          158  \n",
      "81  102965          120  \n",
      "82  105212          111  \n",
      "83  106666          104  \n",
      "84  114457           60  \n",
      "85  120247           46  \n",
      "86  123144           36   \n",
      "Lower:             County  People (Unemployed)  Unemployed(%) Rank(Unemployed)  \\\n",
      "0  Mahnomen County                  227           10.2             3054   \n",
      "\n",
      "   Income Rank(Income)  \n",
      "0   53925         2425  \n"
     ]
    }
   ],
   "source": [
    "#finding outliers\n",
    "unemp_search = []\n",
    "for i in county_df['People (Unemployed)']:\n",
    "    if  i > 2007.5:\n",
    "        unemp_search.append(i)\n",
    "    else: pass\n",
    "\n",
    "unemp_outliers = county_df[county_df['People (Unemployed)'].isin(unemp_search)]\n",
    "\n",
    "\n",
    "income_search_upper = []\n",
    "income_search_lower = []\n",
    "for i in county_df['Income']:\n",
    "    if  i > 90304.25:\n",
    "        income_search_upper.append(i)\n",
    "    elif i < 56378.25:\n",
    "        income_search_lower.append(i)\n",
    "    else: pass\n",
    "\n",
    "income_outliers_upper = county_df[county_df['Income'].isin(income_search_upper)]\n",
    "income_outliers_lower = county_df[county_df['Income'].isin(income_search_lower)]\n",
    "\n",
    "print(f'Upper: {income_outliers_upper} \\nLower: {income_outliers_lower}')\n",
    "\n",
    "\n"
   ]
  },
  {
   "cell_type": "code",
   "execution_count": 70,
   "id": "02f3a975",
   "metadata": {},
   "outputs": [
    {
     "name": "stdout",
     "output_type": "stream",
     "text": [
      "Q1: 2.8499999999999996 \n",
      "Median: 3.7 \n",
      "Q3: 4.4 \n",
      "IQR: 1.5500000000000007\n",
      "Lower Fence: 0.5249999999999986 \n",
      "Upper Fence: 6.725000000000001\n",
      "\n",
      "Upper:               County  People (Unemployed)  Unemployed(%) Rank(Unemployed)  \\\n",
      "0    Mahnomen County                  227           10.2             3054   \n",
      "7  Clearwater County                  286            7.4             2824   \n",
      "\n",
      "   Income Rank(Income)  \n",
      "0   53925         2425  \n",
      "7   64934         1439   \n",
      "Lower: Empty DataFrame\n",
      "Columns: [County, People (Unemployed), Unemployed(%), Rank(Unemployed), Income, Rank(Income)]\n",
      "Index: []\n"
     ]
    }
   ],
   "source": [
    "\n",
    "\n",
    "unemp_percent = county_df['Unemployed(%)']\n",
    "unemp_percent_quarties = quarties(unemp_percent)\n",
    "\n",
    "unemp_percent_upper = []\n",
    "unemp_percent_lower = []\n",
    "for i in county_df['Unemployed(%)']:\n",
    "    if  i > 6.73:\n",
    "        unemp_percent_upper.append(i)\n",
    "    elif i < .525:\n",
    "        unemp_percent_lower.append(i)\n",
    "    else: pass\n",
    "\n",
    "unemppercent_outliers_upper = county_df[county_df['Unemployed(%)'].isin(unemp_percent_upper)]\n",
    "unemppercent_outliers_lower = county_df[county_df['Unemployed(%)'].isin(unemp_percent_lower)]\n",
    "\n",
    "print(f'Upper: {unemppercent_outliers_upper} \\nLower: {unemppercent_outliers_lower}')\n"
   ]
  },
  {
   "cell_type": "code",
   "execution_count": null,
   "id": "ad686811",
   "metadata": {},
   "outputs": [
    {
     "data": {
      "image/png": "[encoded data removed]",
      "text/plain": [
       "<Figure size 640x480 with 1 Axes>"
      ]
     },
     "metadata": {},
     "output_type": "display_data"
    }
   ],
   "source": [
    "\n",
    "fig, ax = plt.subplots()\n",
    "\n",
    "\n",
    "\n",
    "bplot = ax.boxplot(county_df['People (Unemployed)'])"
   ]
  },
  {
   "cell_type": "code",
   "execution_count": null,
   "id": "7b7139ec",
   "metadata": {},
   "outputs": [],
   "source": []
  }
 ],
 "metadata": {
  "kernelspec": {
   "display_name": "dev",
   "language": "python",
   "name": "python3"
  },
  "language_info": {
   "codemirror_mode": {
    "name": "ipython",
    "version": 3
   },
   "file_extension": ".py",
   "mimetype": "text/x-python",
   "name": "python",
   "nbconvert_exporter": "python",
   "pygments_lexer": "ipython3",
   "version": "3.10.16"
  }
 },
 "nbformat": 4,
 "nbformat_minor": 5
}
